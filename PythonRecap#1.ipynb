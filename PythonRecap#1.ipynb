{
  "nbformat": 4,
  "nbformat_minor": 0,
  "metadata": {
    "colab": {
      "name": "Untitled1.ipynb",
      "provenance": [],
      "authorship_tag": "ABX9TyPbkU2Zf+MqAJiGdSwpgntp",
      "include_colab_link": true
    },
    "kernelspec": {
      "name": "python3",
      "display_name": "Python 3"
    },
    "language_info": {
      "name": "python"
    }
  },
  "cells": [
    {
      "cell_type": "markdown",
      "metadata": {
        "id": "view-in-github",
        "colab_type": "text"
      },
      "source": [
        "<a href=\"https://colab.research.google.com/github/Cunfupanza/Cunfupanza/blob/main/PythonRecap%231.ipynb\" target=\"_parent\"><img src=\"https://colab.research.google.com/assets/colab-badge.svg\" alt=\"Open In Colab\"/></a>"
      ]
    },
    {
      "cell_type": "code",
      "execution_count": null,
      "metadata": {
        "id": "XgHkhDPaPmbU"
      },
      "outputs": [],
      "source": [
        ""
      ]
    },
    {
      "cell_type": "markdown",
      "source": [
        "Este es un cauderno de actualización de conocimientos de Python en entorno de ejecución colab. Por que colab, porque es un entono en remoto que lo único que necesito es poder conectarme al entorno remoto, y no andar con historias de tener el código instalado o las versiones correctas"
      ],
      "metadata": {
        "id": "HNBMa_G0Pm_u"
      }
    }
  ]
}